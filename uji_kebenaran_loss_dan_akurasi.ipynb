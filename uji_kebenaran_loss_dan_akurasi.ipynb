{
  "nbformat": 4,
  "nbformat_minor": 0,
  "metadata": {
    "colab": {
      "provenance": []
    },
    "kernelspec": {
      "name": "python3",
      "display_name": "Python 3"
    },
    "language_info": {
      "name": "python"
    }
  },
  "cells": [
    {
      "cell_type": "code",
      "execution_count": null,
      "metadata": {
        "colab": {
          "base_uri": "https://localhost:8080/"
        },
        "id": "dxFcx1eKpV2F",
        "outputId": "96577fef-5afb-45a8-a2b4-cd2a4ee54456"
      },
      "outputs": [
        {
          "output_type": "stream",
          "name": "stdout",
          "text": [
            "Loss: 0.5108\n",
            "Akurasi: 0.7500\n"
          ]
        }
      ],
      "source": [
        "import numpy as np\n",
        "from sklearn.metrics import accuracy_score\n",
        "from keras.losses import categorical_crossentropy\n",
        "import tensorflow as tf\n",
        "\n",
        "# Prediksi\n",
        "predictions = np.array([[0.6, 0.4],\n",
        "                       [0.3, 0.7],\n",
        "                       [0.2, 0.8],\n",
        "                       [0.1, 0.9]])\n",
        "\n",
        "# Label\n",
        "labels = np.array([[1, 0],\n",
        "                   [1, 0],\n",
        "                   [0, 1],\n",
        "                   [0, 1]])\n",
        "\n",
        "# Hitung loss\n",
        "cce = tf.keras.losses.CategoricalCrossentropy()\n",
        "s = cce(labels, predictions).numpy()\n",
        "\n",
        "m = tf.keras.metrics.CategoricalAccuracy()\n",
        "a = m(labels, predictions).numpy()\n",
        "\n",
        "print(\"Loss: {:.4f}\".format(s))\n",
        "print(\"Akurasi: {:.4f}\".format(a))"
      ]
    },
    {
      "cell_type": "code",
      "source": [
        "import numpy as np\n",
        "from sklearn.metrics import accuracy_score\n",
        "from keras.losses import categorical_crossentropy\n",
        "import tensorflow as tf\n",
        "\n",
        "# Prediksi\n",
        "predictions = np.array([[0.6, 0.3, 0.1],\n",
        "                       [0.3, 0.2, 0.5],\n",
        "                       [0.2, 0.5, 0.3],\n",
        "                       [0.1, 0.2, 0.7]])\n",
        "\n",
        "# Label\n",
        "labels = np.array([[1, 0, 0],\n",
        "                   [1, 0, 0],\n",
        "                   [0, 1, 0],\n",
        "                   [0, 0, 1]])\n",
        "\n",
        "# Hitung loss\n",
        "cce = tf.keras.losses.CategoricalCrossentropy()\n",
        "s = cce(labels, predictions).numpy()\n",
        "\n",
        "m = tf.keras.metrics.CategoricalAccuracy()\n",
        "a = m(labels, predictions).numpy()\n",
        "\n",
        "print(\"Loss: {:.4f}\".format(s))\n",
        "print(\"Akurasi: {:.4f}\".format(a))"
      ],
      "metadata": {
        "colab": {
          "base_uri": "https://localhost:8080/"
        },
        "id": "bOs-wPxhGztu",
        "outputId": "9e2c33fe-a077-4f21-f463-255e2c4eeb4e"
      },
      "execution_count": null,
      "outputs": [
        {
          "output_type": "stream",
          "name": "stdout",
          "text": [
            "Loss: 0.6912\n",
            "Akurasi: 0.7500\n"
          ]
        }
      ]
    }
  ]
}